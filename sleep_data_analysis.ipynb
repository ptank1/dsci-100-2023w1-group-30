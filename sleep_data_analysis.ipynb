{
 "cells": [
  {
   "cell_type": "code",
   "execution_count": 2,
   "id": "034008ae-bb8b-4412-b90b-1fd0b3cfea4f",
   "metadata": {
    "tags": []
   },
   "outputs": [
    {
     "name": "stderr",
     "output_type": "stream",
     "text": [
      "Warning message:\n",
      "“unable to access index for repository https://cran.r-project.org/src/contrib:\n",
      "  cannot open URL 'https://cran.r-project.org/src/contrib/PACKAGES'”\n",
      "Warning message:\n",
      "“package ‘janitor’ is not available for this version of R\n",
      "\n",
      "A version of this package for your version of R might be available elsewhere,\n",
      "see the ideas at\n",
      "https://cran.r-project.org/doc/manuals/r-patched/R-admin.html#Installing-packages”\n"
     ]
    },
    {
     "ename": "ERROR",
     "evalue": "Error in library(janitor): there is no package called ‘janitor’\n",
     "output_type": "error",
     "traceback": [
      "Error in library(janitor): there is no package called ‘janitor’\nTraceback:\n",
      "1. library(janitor)"
     ]
    }
   ],
   "source": [
    "#loaded libraries and installed the \"janitor\" package for further use. \n",
    "\n",
    "install.packages(\"janitor\")\n",
    "library(janitor)\n",
    "library(tidyverse)\n",
    "library(repr)\n",
    "library(readxl)\n",
    "library(dplyr)\n",
    "library(RColorBrewer)\n",
    "display.brewer.all()\n",
    "options(repr.matrix.max.rows = 6)"
   ]
  },
  {
   "cell_type": "code",
   "execution_count": 3,
   "id": "f58aa9b0-2649-49a5-8847-1e7fecb63492",
   "metadata": {
    "tags": []
   },
   "outputs": [
    {
     "ename": "ERROR",
     "evalue": "Error in read_csv(url): could not find function \"read_csv\"\n",
     "output_type": "error",
     "traceback": [
      "Error in read_csv(url): could not find function \"read_csv\"\nTraceback:\n"
     ]
    }
   ],
   "source": [
    "# Retrived Sleep Health and Lifestyle Dataset from Kaggle --> downloaded the data on GitHub and using the GitHub pathway to extract the URL and read the data in Jupyter.\n",
    "\n",
    "url <- \"https://raw.githubusercontent.com/ptank1/dsci-100-2023w1-group-30/main/Sleep_health_and_lifestyle_dataset.csv\"\n",
    "sleep_data <- read_csv(url)\n",
    "head(sleep_data)\n",
    "\n",
    "sleep_data\n",
    "\n"
   ]
  },
  {
   "cell_type": "code",
   "execution_count": 4,
   "id": "1176014c-cc1c-4b5d-9071-d7e5c630cee7",
   "metadata": {},
   "outputs": [
    {
     "ename": "ERROR",
     "evalue": "Error in clean_names(sleep_data): could not find function \"clean_names\"\n",
     "output_type": "error",
     "traceback": [
      "Error in clean_names(sleep_data): could not find function \"clean_names\"\nTraceback:\n"
     ]
    }
   ],
   "source": [
    "# Added underscore (_) to replace the spaces within the column names. This will ensure that the tidyverse functions are being used properly. \n",
    "\n",
    "sleep_data <- sleep_data |> clean_names()"
   ]
  },
  {
   "cell_type": "code",
   "execution_count": null,
   "id": "99e89f90-5658-4b80-8857-ae2bbfa59af4",
   "metadata": {
    "tags": []
   },
   "outputs": [],
   "source": [
    "# We will be primarily focusing on factors like sleep_duration, physical_activity_level (and gender --> which will be the secondary exploratory analysis), and how these factors influence the chnages in quality_of_sleep in the subjects. \n",
    "# Using the select function, we will select the columns that we are primarily interested in (person_id, gender, sleep_duration, quality_of_sleep, physical_activity). \n",
    "# Created a new object: sleep_data_select\n",
    "\n",
    "sleep_data_select <- sleep_data |>\n",
    "select(person_id, gender, sleep_duration, quality_of_sleep, physical_activity_level) \n",
    "\n",
    "\n",
    "\n",
    "sleep_data_select"
   ]
  },
  {
   "cell_type": "code",
   "execution_count": null,
   "id": "a8201dcc-3413-4372-9164-dac7f8adfe8b",
   "metadata": {
    "tags": []
   },
   "outputs": [],
   "source": [
    "# Further functions will be correlated to tidying up (mutatung and arranging) the data in a way where the quality_of_sleep column can be used as a character variable instead of a numerical variable, and arranging the data in an ascending order based on the quality_of_sleep.\n",
    "# Created a new object: sleep_data_tidy\n",
    "\n",
    "\n",
    "sleep_data_tidy <- sleep_data_select |>\n",
    "mutate(quality_of_sleep = as.character(quality_of_sleep)) |>\n",
    "arrange(quality_of_sleep)\n",
    "\n",
    "sleep_data_tidy"
   ]
  },
  {
   "cell_type": "code",
   "execution_count": null,
   "id": "3ad693f1-125c-4190-bcf3-2c18236d2a2a",
   "metadata": {
    "tags": []
   },
   "outputs": [],
   "source": [
    "# glimpse() function lets is view the portion of the data with respect to each variable within the single line.  \n",
    "\n",
    "glimpse(sleep_data_tidy)"
   ]
  },
  {
   "cell_type": "code",
   "execution_count": null,
   "id": "1d2ebd09-c84d-472d-8774-f045f24ebef7",
   "metadata": {
    "tags": []
   },
   "outputs": [],
   "source": [
    "# distinct() function lets us view the unique attributes that are present in a column.  \n",
    "# We want to see what unique values are present in the quality_of_sleep column.\n",
    "\n",
    "sleep_data_tidy |> distinct(quality_of_sleep)"
   ]
  },
  {
   "cell_type": "code",
   "execution_count": null,
   "id": "a8841028-bbeb-4c54-8d8b-9212ec6c8b9f",
   "metadata": {
    "tags": []
   },
   "outputs": [],
   "source": [
    "# Using the mutate as_factor() function lets us convert the selected categorical variable (quality_of_sleep) into the factors.\n",
    "# The factors can be further used to modify the numerical categories into the different type of categories like poor, good, and excellent using the fct_recode() function.\n",
    "# We want to modify the numerical ranges into a poor, good, and excellent categories within the quality_of_sleep column as follows: (4 and 5) = \"Poor\", (6 and 7) = \"Good\", and (8 and 9) = \"Excellent\".\n",
    "# Object name will remain the same: sleep_data_tid\n",
    "\n",
    "sleep_data_tidy <- sleep_data_tidy |>\n",
    "\n",
    "  mutate(quality_of_sleep = as_factor(quality_of_sleep)) |>\n",
    "  mutate(quality_of_sleep = fct_recode(quality_of_sleep, \"Poor\" = \"4\", \"Poor\" = \"5\", \"Good\" = \"6\", \"Good\" = \"7\", \"Excellent\" = \"8\", \"Excellent\" = \"9\"))\n",
    "\n",
    "\n",
    "\n",
    "sleep_data_tidy"
   ]
  },
  {
   "cell_type": "code",
   "execution_count": null,
   "id": "4764ff5a-c816-4567-b969-893922373b27",
   "metadata": {
    "tags": []
   },
   "outputs": [],
   "source": [
    "# We want to use the distinct() function again to see whether the numerical categorical values have changed into poor, good, and excellent within the quality_of_sleep. \n",
    "\n",
    "sleep_data_tidy |> distinct(quality_of_sleep)\n"
   ]
  },
  {
   "cell_type": "code",
   "execution_count": 5,
   "id": "7c6c00ec-6acf-457d-90b5-22f69ac6dc68",
   "metadata": {
    "tags": []
   },
   "outputs": [
    {
     "ename": "ERROR",
     "evalue": "Error in nrow(sleep_data_tidy): object 'sleep_data_tidy' not found\n",
     "output_type": "error",
     "traceback": [
      "Error in nrow(sleep_data_tidy): object 'sleep_data_tidy' not found\nTraceback:\n",
      "1. nrow(sleep_data_tidy)"
     ]
    }
   ],
   "source": [
    "# Now we will examine the sleep_data_tidy dataset and use following functions like n, group_by(), and summarize() function to explore stats of the observations we have in the quality_of_sleep column.\n",
    "# We will use the goroup_by() function to select quality_of_sleep column, and the n() function within summzarize will allow us to examine the counts of observations within each category (poor, good, and excellent). \n",
    "# Ultimately, we will have a table with the counts of observations within poor, good, and excellent categories in quality_of_sleep column, along with the percentage of observations, and mean/average of the observations.\n",
    "\n",
    "\n",
    "num_obs <- nrow(sleep_data_tidy)\n",
    "sleep_data_tidy|>\n",
    "  group_by(quality_of_sleep) |>\n",
    "  summarize(\n",
    "    count = n(),\n",
    "    percentage = n() / num_obs * 100, mean = n())\n",
    "\n",
    "num_obs"
   ]
  },
  {
   "cell_type": "code",
   "execution_count": null,
   "id": "aba1fe65-141c-43b0-8e2a-34b68acfd912",
   "metadata": {
    "tags": []
   },
   "outputs": [],
   "source": [
    "# Finally, we will create a visualization, a scatter plot (using geom_point), to explore the relationship of physical_activity_level versus sleep_duration with respect to the quality_of_sleep data.\n",
    "# Created a new object: sleep_duration_plot\n",
    "\n",
    "sleep_duration_plot <- sleep_data_tidy |>\n",
    "  ggplot(aes(x = sleep_duration, y = physical_activity_level, color = quality_of_sleep)) +\n",
    "  geom_point(alpha = 0.6) +\n",
    "  labs(x = \"Sleep Duration (hours)\",\n",
    "       y = \"Physical Activity Level (minutes/day)\",\n",
    "       color = \"Quality of Sleep\",\n",
    "      caption = \"Scatterplot examining the relationship between Physical Activity Level (minutes/day) over Sleep Duration (hours) with respect to the Quality of Sleep categories. There is a positive upward trend in distribution, where the quality of sleep is excellent as the sleep duration and physical activtiy levels increases. The quality of sleep mostly remains poor in the bottom of the graph when the physical activity levels and the hours of sleep duration are low.\") +\n",
    "  ggtitle(\"Distribution of Physical Activity Level (minutes/day) versus Sleep Duration (hours) with respect to the Quality of Sleep\") +\n",
    "  theme(text = element_text(size = 12))\n",
    "       \n",
    "sleep_duration_plot"
   ]
  },
  {
   "cell_type": "code",
   "execution_count": null,
   "id": "3a8fe12a-3e60-49ed-9947-304c5e35251b",
   "metadata": {
    "tags": []
   },
   "outputs": [],
   "source": [
    "# At last, we will create an explarotary visualization, a bar graph (using geom_bar), to explore how the quality of sleep is portrayed within different gender groups (male or female).\n",
    "# This is just a curious, secondary explrotary analysis.\n",
    "# Created a new object: gender_plot\n",
    "\n",
    "gender_plot <- sleep_data_tidy |>\n",
    "  ggplot(aes(x = gender, fill = quality_of_sleep)) +\n",
    "  geom_bar(position = 'fill') +\n",
    "  labs(x = \"Gender\",\n",
    "       y = \"Proportion of population with varied sleep quality\",\n",
    "       fill = \"Quality of Sleep\",\n",
    "      caption = \"Bar plot examining the proportional distribution of the sleep quality categories among male and female genders. A greater proportion of female subjects experience excellent quality of sleep compared to the male population.\") +\n",
    "ggtitle(\"Proportional distribution of Male and Female Subjects with respect to their Quality of Sleep pattern\")\n",
    "  theme(text = element_text(size = 12))\n",
    "       \n",
    "gender_plot"
   ]
  },
  {
   "cell_type": "code",
   "execution_count": null,
   "id": "838baee7-1637-4010-a7d7-d227cfd4d328",
   "metadata": {},
   "outputs": [],
   "source": []
  }
 ],
 "metadata": {
  "kernelspec": {
   "display_name": "R",
   "language": "R",
   "name": "ir"
  },
  "language_info": {
   "codemirror_mode": "r",
   "file_extension": ".r",
   "mimetype": "text/x-r-source",
   "name": "R",
   "pygments_lexer": "r",
   "version": "4.2.2"
  }
 },
 "nbformat": 4,
 "nbformat_minor": 5
}
