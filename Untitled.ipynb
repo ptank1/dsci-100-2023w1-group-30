{
 "cells": [
  {
   "cell_type": "code",
   "execution_count": null,
   "id": "2abed2da-2eb2-41bc-9500-d90307a8e437",
   "metadata": {},
   "outputs": [],
   "source": []
  }
 ],
 "metadata": {
  "kernelspec": {
   "display_name": "R",
   "language": "R",
   "name": "ir"
  },
  "language_info": {
   "name": ""
  }
 },
 "nbformat": 4,
 "nbformat_minor": 5
}
