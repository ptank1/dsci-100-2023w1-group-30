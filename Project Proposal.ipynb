{
 "cells": [
  {
   "cell_type": "markdown",
   "id": "123de297-b7ea-498d-be2c-1fff2aedd7b0",
   "metadata": {},
   "source": [
    "Project ideas and themes:"
   ]
  },
  {
   "cell_type": "code",
   "execution_count": null,
   "id": "765beca2-67b5-422e-ac55-eaf815fd894f",
   "metadata": {},
   "outputs": [],
   "source": []
  }
 ],
 "metadata": {
  "kernelspec": {
   "display_name": "R",
   "language": "R",
   "name": "ir"
  },
  "language_info": {
   "codemirror_mode": "r",
   "file_extension": ".r",
   "mimetype": "text/x-r-source",
   "name": "R",
   "pygments_lexer": "r",
   "version": "4.2.2"
  }
 },
 "nbformat": 4,
 "nbformat_minor": 5
}
